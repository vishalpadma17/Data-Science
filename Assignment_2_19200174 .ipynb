{
 "cells": [
  {
   "cell_type": "markdown",
   "metadata": {},
   "source": [
    "# Data Science Assignment 2\n",
    "## Student ID: 19200174"
   ]
  },
  {
   "cell_type": "markdown",
   "metadata": {},
   "source": [
    "## Task 1: Selecting three review categories and extracting data from them"
   ]
  },
  {
   "cell_type": "markdown",
   "metadata": {},
   "source": [
    "Importing the packages needed"
   ]
  },
  {
   "cell_type": "code",
   "execution_count": 2,
   "metadata": {},
   "outputs": [],
   "source": [
    "import pandas as pd\n",
    "import numpy as np\n",
    "import requests\n",
    "import urllib.request\n",
    "import time\n",
    "from bs4 import BeautifulSoup\n",
    "from sklearn.feature_extraction.text import CountVectorizer\n",
    "from sklearn.model_selection import train_test_split\n",
    "from sklearn.metrics import *\n",
    "from sklearn.model_selection import cross_val_score, RepeatedKFold\n",
    "from sklearn import linear_model\n",
    "from sklearn import metrics\n",
    "from sklearn import ensemble\n",
    "from nltk.corpus import stopwords\n",
    "from nltk.stem import PorterStemmer\n",
    "import nltk\n",
    "import matplotlib.pyplot as plt\n",
    "import warnings\n",
    "warnings.filterwarnings(\"ignore\")"
   ]
  },
  {
   "cell_type": "markdown",
   "metadata": {},
   "source": [
    "Function to extract all the links when a url is given"
   ]
  },
  {
   "cell_type": "code",
   "execution_count": 2,
   "metadata": {},
   "outputs": [],
   "source": [
    "#Accessing the raw data from the HTML page and saving the variable html\n",
    "def URL_links (url):\n",
    "    response = urllib.request.urlopen(url)\n",
    "    html = response.read().decode()\n",
    "    \n",
    "    #Converting the html data into soup format using BeautifulSoup\n",
    "    soup = BeautifulSoup(html)\n",
    "    Links = list() # Variable to save the links\n",
    "    \n",
    "    #for loop to get all links from the soup data\n",
    "    for a in soup.find_all('a', href=True):\n",
    "        Links.append(a['href'])\n",
    "    \n",
    "    return Links"
   ]
  },
  {
   "cell_type": "code",
   "execution_count": 3,
   "metadata": {},
   "outputs": [],
   "source": [
    "#Getting all the links from the below html pages\n",
    "url = 'http://mlg.ucd.ie/modules/yalp'\n",
    "B = URL_links(url)#calling the function\n",
    "Required_links = [] #List to store three links from which i will be scraping the reviews\n",
    "names = ('cafes_list.html','hotels_list.html','restaurants_list.html') #Links from whcih i will be scarping the reviews\n",
    "#for loop to get all the required links from links returned\n",
    "for links in B:\n",
    "    A = links\n",
    "    if A in names:\n",
    "        url_1 = url+'/'+A\n",
    "        Required_links.append(url_1) # appending the links "
   ]
  },
  {
   "cell_type": "markdown",
   "metadata": {},
   "source": [
    "So below is a code block which is used to get all the required data like Title, Names, Dates, Rating and Review"
   ]
  },
  {
   "cell_type": "code",
   "execution_count": null,
   "metadata": {},
   "outputs": [],
   "source": [
    "for i in range(len(Required_links)): #Loop to check all the three links from which reviews will be extracted\n",
    "    A = str(Required_links[i])\n",
    "    if 'cafes' in A:\n",
    "        file = 'Cafes_data.csv' #to use to save the csv file with this name\n",
    "    elif 'hotels' in A:\n",
    "        file  = 'Hotels_data.csv'\n",
    "    elif 'restaurants' in A:\n",
    "        file = 'Restaurants_data.csv'\n",
    "    Links_A = URL_links(Required_links[i])\n",
    "    Links_A = Links_A[1:] #to exclude the first element which is the index link\n",
    "    Dataset = pd.DataFrame(columns=['Shop','Name','Review Date','Rating', 'Review']) # creating a dataset to store the values\n",
    "    for i in range(len(Links_A)):\n",
    "        url_A = url+'/'+Links_A[i]#selecting the first link from the main link(basically first cafe or hotel or restaurant)\n",
    "        response_A = urllib.request.urlopen(url_A)\n",
    "        html_A = response_A.read().decode()\n",
    "        soup_A = BeautifulSoup(html_A)\n",
    "        Ratings = [img['alt'][0] for img in soup_A.find_all('img', alt = True)]#Saving all the ratings in this variable\n",
    "        Review = list()\n",
    "        for text in soup_A.find_all('p',{'class': 'review-text'}):\n",
    "            Review.append(text.text)#saving Reviews in this variable\n",
    "        Dates = list()\n",
    "        for date in soup_A.find_all('b'):\n",
    "            A = str(date)\n",
    "            Dates.append(A[15:25])#saving all the dates into the variable\n",
    "        Names = list()\n",
    "        for name in soup_A.find_all('i'):\n",
    "            Names.append(name.text)#saving all the names into the variable\n",
    "        Title = list()\n",
    "        for title in soup_A.find_all('title'):\n",
    "            Title.append(title.text)#Sabving the title into the variable\n",
    "        for i in range(len(Names)): #loop to store all the data into the datatset\n",
    "            Dataset = Dataset.append({'Shop': Title, 'Name':Names[i], 'Review Date': Dates[i], 'Rating': Ratings[i], 'Review': Review[i]},  ignore_index=True)\n",
    "    Dataset.to_csv(file, index=False)#Saving the dataset into csv file"
   ]
  },
  {
   "cell_type": "markdown",
   "metadata": {},
   "source": [
    "## Task 2: Preprocessing the data extracted and to build a model and Predict."
   ]
  },
  {
   "cell_type": "markdown",
   "metadata": {},
   "source": [
    "First need to preprocess the data extracted"
   ]
  },
  {
   "cell_type": "code",
   "execution_count": 4,
   "metadata": {},
   "outputs": [],
   "source": [
    "def Precprocessing_Data(df):\n",
    "    #below code to clean the Shop Names in the Shop Column\n",
    "    Shop_name = list(df['Shop'])\n",
    "    Shop_new_name = []\n",
    "    for i in range(len(Shop_name)):\n",
    "        E = Shop_name[i]\n",
    "        if \"['Yalp \" in E:\n",
    "            E = E.replace(\"['Yalp \",\"\")\n",
    "            E = E.replace(\"']\",\"\")\n",
    "            Shop_new_name.append(E)\n",
    "        elif '[\"Yalp ' in E:\n",
    "            E = E.replace('[\"Yalp ','')\n",
    "            E = E.replace('\"]','')\n",
    "            Shop_new_name.append(E)\n",
    "    df['Shop'] = Shop_new_name\n",
    "    \n",
    "    #Now lets compare the rating and make a new list which says if the rating is positive or negative\n",
    "    Rating_C = list(df['Rating'])\n",
    "    Ratings_pos_neg = []#This is used to store Positive for rating 5-4 and Negative for rating 1-3\n",
    "    Ratings_model = []#This is used to store 1 for rating 5-4 and 0 for rating 1-3\n",
    "    for i in range(len(Rating_C)):\n",
    "        RR = Rating_C[i]\n",
    "        if (RR == 1 or RR == 2 or RR == 3):#Checking if the rating is 1-3\n",
    "            Ratings_pos_neg.append('Negative')#append Negative if is true\n",
    "            Ratings_model.append('0')#append 0 if is true\n",
    "        elif (RR == 4 or RR == 5):#Checking if the rating is 4-5\n",
    "            Ratings_pos_neg.append('Positive')#append Positive if is true\n",
    "            Ratings_model.append('1')#append 1 if is true\n",
    "            \n",
    "    df['Rating_Pos_Neg'] = Ratings_pos_neg#Creating a new column to store the data\n",
    "    df['Rating_Model'] = Ratings_model#Creating a new column to store the data\n",
    "    return df"
   ]
  },
  {
   "cell_type": "markdown",
   "metadata": {},
   "source": [
    "Cleaning the extracted data using the function defined above. In the above function i have declared two new columns Rating_Pos_Neg, this is used to rate the review as Positive or Negative as per the rating received by the review. Another column is the Rating_Model, this i have declared so that i can use this while training the model as it is easy if we have binary values in the labels."
   ]
  },
  {
   "cell_type": "code",
   "execution_count": 53,
   "metadata": {},
   "outputs": [
    {
     "data": {
      "text/html": [
       "<div>\n",
       "<style scoped>\n",
       "    .dataframe tbody tr th:only-of-type {\n",
       "        vertical-align: middle;\n",
       "    }\n",
       "\n",
       "    .dataframe tbody tr th {\n",
       "        vertical-align: top;\n",
       "    }\n",
       "\n",
       "    .dataframe thead th {\n",
       "        text-align: right;\n",
       "    }\n",
       "</style>\n",
       "<table border=\"1\" class=\"dataframe\">\n",
       "  <thead>\n",
       "    <tr style=\"text-align: right;\">\n",
       "      <th></th>\n",
       "      <th>Shop</th>\n",
       "      <th>Name</th>\n",
       "      <th>Review Date</th>\n",
       "      <th>Rating</th>\n",
       "      <th>Review</th>\n",
       "      <th>Rating_Pos_Neg</th>\n",
       "      <th>Rating_Model</th>\n",
       "    </tr>\n",
       "  </thead>\n",
       "  <tbody>\n",
       "    <tr>\n",
       "      <th>0</th>\n",
       "      <td>ABC Bakery Coffee Shop</td>\n",
       "      <td>Melanie Stanier</td>\n",
       "      <td>2018-06-19</td>\n",
       "      <td>4</td>\n",
       "      <td>Pros: Lots of items you would not expect from ...</td>\n",
       "      <td>Positive</td>\n",
       "      <td>1</td>\n",
       "    </tr>\n",
       "    <tr>\n",
       "      <th>1</th>\n",
       "      <td>ABC Bakery Coffee Shop</td>\n",
       "      <td>Jack Simmonds</td>\n",
       "      <td>2018-06-12</td>\n",
       "      <td>4</td>\n",
       "      <td>Best egg-tarts in town! There's really not muc...</td>\n",
       "      <td>Positive</td>\n",
       "      <td>1</td>\n",
       "    </tr>\n",
       "    <tr>\n",
       "      <th>2</th>\n",
       "      <td>ABC Bakery Coffee Shop</td>\n",
       "      <td>Alfred Durate</td>\n",
       "      <td>2018-06-03</td>\n",
       "      <td>2</td>\n",
       "      <td>I've been to ABC Bakery a few times since I re...</td>\n",
       "      <td>Negative</td>\n",
       "      <td>0</td>\n",
       "    </tr>\n",
       "    <tr>\n",
       "      <th>3</th>\n",
       "      <td>ABC Bakery Coffee Shop</td>\n",
       "      <td>Heidi Salvaggio</td>\n",
       "      <td>2018-03-18</td>\n",
       "      <td>1</td>\n",
       "      <td>FYI, Closed Monday's New ownership for about 1...</td>\n",
       "      <td>Negative</td>\n",
       "      <td>0</td>\n",
       "    </tr>\n",
       "    <tr>\n",
       "      <th>4</th>\n",
       "      <td>ABC Bakery Coffee Shop</td>\n",
       "      <td>Robert Vanoy</td>\n",
       "      <td>2017-10-03</td>\n",
       "      <td>4</td>\n",
       "      <td>The inside may not look like much but they mak...</td>\n",
       "      <td>Positive</td>\n",
       "      <td>1</td>\n",
       "    </tr>\n",
       "  </tbody>\n",
       "</table>\n",
       "</div>"
      ],
      "text/plain": [
       "                     Shop             Name Review Date  Rating  \\\n",
       "0  ABC Bakery Coffee Shop  Melanie Stanier  2018-06-19       4   \n",
       "1  ABC Bakery Coffee Shop    Jack Simmonds  2018-06-12       4   \n",
       "2  ABC Bakery Coffee Shop    Alfred Durate  2018-06-03       2   \n",
       "3  ABC Bakery Coffee Shop  Heidi Salvaggio  2018-03-18       1   \n",
       "4  ABC Bakery Coffee Shop     Robert Vanoy  2017-10-03       4   \n",
       "\n",
       "                                              Review Rating_Pos_Neg  \\\n",
       "0  Pros: Lots of items you would not expect from ...       Positive   \n",
       "1  Best egg-tarts in town! There's really not muc...       Positive   \n",
       "2  I've been to ABC Bakery a few times since I re...       Negative   \n",
       "3  FYI, Closed Monday's New ownership for about 1...       Negative   \n",
       "4  The inside may not look like much but they mak...       Positive   \n",
       "\n",
       "  Rating_Model  \n",
       "0            1  \n",
       "1            1  \n",
       "2            0  \n",
       "3            0  \n",
       "4            1  "
      ]
     },
     "execution_count": 53,
     "metadata": {},
     "output_type": "execute_result"
    }
   ],
   "source": [
    "Cafes_Data = pd.read_csv('Cafes_data.csv')\n",
    "Cafes_Cleaned_Data = Precprocessing_Data(Cafes_Data)\n",
    "\n",
    "Cafes_Cleaned_Data.head()"
   ]
  },
  {
   "cell_type": "code",
   "execution_count": 54,
   "metadata": {},
   "outputs": [
    {
     "data": {
      "text/html": [
       "<div>\n",
       "<style scoped>\n",
       "    .dataframe tbody tr th:only-of-type {\n",
       "        vertical-align: middle;\n",
       "    }\n",
       "\n",
       "    .dataframe tbody tr th {\n",
       "        vertical-align: top;\n",
       "    }\n",
       "\n",
       "    .dataframe thead th {\n",
       "        text-align: right;\n",
       "    }\n",
       "</style>\n",
       "<table border=\"1\" class=\"dataframe\">\n",
       "  <thead>\n",
       "    <tr style=\"text-align: right;\">\n",
       "      <th></th>\n",
       "      <th>Shop</th>\n",
       "      <th>Name</th>\n",
       "      <th>Review Date</th>\n",
       "      <th>Rating</th>\n",
       "      <th>Review</th>\n",
       "      <th>Rating_Pos_Neg</th>\n",
       "      <th>Rating_Model</th>\n",
       "    </tr>\n",
       "  </thead>\n",
       "  <tbody>\n",
       "    <tr>\n",
       "      <th>0</th>\n",
       "      <td>'Round Table Tours</td>\n",
       "      <td>Julie Aldridge</td>\n",
       "      <td>2016-12-22</td>\n",
       "      <td>5</td>\n",
       "      <td>Melissa took us on a tour of Asia in the space...</td>\n",
       "      <td>Positive</td>\n",
       "      <td>1</td>\n",
       "    </tr>\n",
       "    <tr>\n",
       "      <th>1</th>\n",
       "      <td>'Round Table Tours</td>\n",
       "      <td>Marilyn Mitchell</td>\n",
       "      <td>2016-06-06</td>\n",
       "      <td>5</td>\n",
       "      <td>With a group of seven of us visiting Montreal ...</td>\n",
       "      <td>Positive</td>\n",
       "      <td>1</td>\n",
       "    </tr>\n",
       "    <tr>\n",
       "      <th>2</th>\n",
       "      <td>'Round Table Tours</td>\n",
       "      <td>Maurice Hibbard</td>\n",
       "      <td>2015-08-12</td>\n",
       "      <td>5</td>\n",
       "      <td>Melissa is a gem! My fiancé found her tour on ...</td>\n",
       "      <td>Positive</td>\n",
       "      <td>1</td>\n",
       "    </tr>\n",
       "    <tr>\n",
       "      <th>3</th>\n",
       "      <td>'Round Table Tours</td>\n",
       "      <td>Una Barba</td>\n",
       "      <td>2015-07-29</td>\n",
       "      <td>5</td>\n",
       "      <td>A perfect day in Montreal! Melissa outfitted u...</td>\n",
       "      <td>Positive</td>\n",
       "      <td>1</td>\n",
       "    </tr>\n",
       "    <tr>\n",
       "      <th>4</th>\n",
       "      <td>'Round Table Tours</td>\n",
       "      <td>Janice Tyler</td>\n",
       "      <td>2014-09-21</td>\n",
       "      <td>5</td>\n",
       "      <td>I had a really great food truck tour with Meli...</td>\n",
       "      <td>Positive</td>\n",
       "      <td>1</td>\n",
       "    </tr>\n",
       "  </tbody>\n",
       "</table>\n",
       "</div>"
      ],
      "text/plain": [
       "                 Shop              Name Review Date  Rating  \\\n",
       "0  'Round Table Tours    Julie Aldridge  2016-12-22       5   \n",
       "1  'Round Table Tours  Marilyn Mitchell  2016-06-06       5   \n",
       "2  'Round Table Tours   Maurice Hibbard  2015-08-12       5   \n",
       "3  'Round Table Tours         Una Barba  2015-07-29       5   \n",
       "4  'Round Table Tours      Janice Tyler  2014-09-21       5   \n",
       "\n",
       "                                              Review Rating_Pos_Neg  \\\n",
       "0  Melissa took us on a tour of Asia in the space...       Positive   \n",
       "1  With a group of seven of us visiting Montreal ...       Positive   \n",
       "2  Melissa is a gem! My fiancé found her tour on ...       Positive   \n",
       "3  A perfect day in Montreal! Melissa outfitted u...       Positive   \n",
       "4  I had a really great food truck tour with Meli...       Positive   \n",
       "\n",
       "  Rating_Model  \n",
       "0            1  \n",
       "1            1  \n",
       "2            1  \n",
       "3            1  \n",
       "4            1  "
      ]
     },
     "execution_count": 54,
     "metadata": {},
     "output_type": "execute_result"
    }
   ],
   "source": [
    "Hotels_Data = pd.read_csv('Hotels_data.csv')\n",
    "Hotels_Cleaned_Data = Precprocessing_Data(Hotels_Data)\n",
    "\n",
    "Hotels_Cleaned_Data.head()"
   ]
  },
  {
   "cell_type": "code",
   "execution_count": 55,
   "metadata": {
    "scrolled": true
   },
   "outputs": [
    {
     "data": {
      "text/html": [
       "<div>\n",
       "<style scoped>\n",
       "    .dataframe tbody tr th:only-of-type {\n",
       "        vertical-align: middle;\n",
       "    }\n",
       "\n",
       "    .dataframe tbody tr th {\n",
       "        vertical-align: top;\n",
       "    }\n",
       "\n",
       "    .dataframe thead th {\n",
       "        text-align: right;\n",
       "    }\n",
       "</style>\n",
       "<table border=\"1\" class=\"dataframe\">\n",
       "  <thead>\n",
       "    <tr style=\"text-align: right;\">\n",
       "      <th></th>\n",
       "      <th>Shop</th>\n",
       "      <th>Name</th>\n",
       "      <th>Review Date</th>\n",
       "      <th>Rating</th>\n",
       "      <th>Review</th>\n",
       "      <th>Rating_Pos_Neg</th>\n",
       "      <th>Rating_Model</th>\n",
       "    </tr>\n",
       "  </thead>\n",
       "  <tbody>\n",
       "    <tr>\n",
       "      <th>0</th>\n",
       "      <td>750ml Wines</td>\n",
       "      <td>Joan Boozer</td>\n",
       "      <td>2018-06-15</td>\n",
       "      <td>2</td>\n",
       "      <td>My husband and I had a rare afternoon off so w...</td>\n",
       "      <td>Negative</td>\n",
       "      <td>0</td>\n",
       "    </tr>\n",
       "    <tr>\n",
       "      <th>1</th>\n",
       "      <td>750ml Wines</td>\n",
       "      <td>Justin Woodard</td>\n",
       "      <td>2018-02-28</td>\n",
       "      <td>4</td>\n",
       "      <td>For years I thought this was only a wine store...</td>\n",
       "      <td>Positive</td>\n",
       "      <td>1</td>\n",
       "    </tr>\n",
       "    <tr>\n",
       "      <th>2</th>\n",
       "      <td>750ml Wines</td>\n",
       "      <td>Bette Diaz</td>\n",
       "      <td>2017-09-22</td>\n",
       "      <td>5</td>\n",
       "      <td>This place is so charming! I went with my husb...</td>\n",
       "      <td>Positive</td>\n",
       "      <td>1</td>\n",
       "    </tr>\n",
       "    <tr>\n",
       "      <th>3</th>\n",
       "      <td>750ml Wines</td>\n",
       "      <td>Preston Goodpasture</td>\n",
       "      <td>2017-09-15</td>\n",
       "      <td>5</td>\n",
       "      <td>We have been wanting to try this place for a c...</td>\n",
       "      <td>Positive</td>\n",
       "      <td>1</td>\n",
       "    </tr>\n",
       "    <tr>\n",
       "      <th>4</th>\n",
       "      <td>750ml Wines</td>\n",
       "      <td>Michael Kathan</td>\n",
       "      <td>2017-04-27</td>\n",
       "      <td>1</td>\n",
       "      <td>Decor looks ok but layout is too busy. Difficu...</td>\n",
       "      <td>Negative</td>\n",
       "      <td>0</td>\n",
       "    </tr>\n",
       "  </tbody>\n",
       "</table>\n",
       "</div>"
      ],
      "text/plain": [
       "          Shop                 Name Review Date  Rating  \\\n",
       "0  750ml Wines          Joan Boozer  2018-06-15       2   \n",
       "1  750ml Wines       Justin Woodard  2018-02-28       4   \n",
       "2  750ml Wines           Bette Diaz  2017-09-22       5   \n",
       "3  750ml Wines  Preston Goodpasture  2017-09-15       5   \n",
       "4  750ml Wines       Michael Kathan  2017-04-27       1   \n",
       "\n",
       "                                              Review Rating_Pos_Neg  \\\n",
       "0  My husband and I had a rare afternoon off so w...       Negative   \n",
       "1  For years I thought this was only a wine store...       Positive   \n",
       "2  This place is so charming! I went with my husb...       Positive   \n",
       "3  We have been wanting to try this place for a c...       Positive   \n",
       "4  Decor looks ok but layout is too busy. Difficu...       Negative   \n",
       "\n",
       "  Rating_Model  \n",
       "0            0  \n",
       "1            1  \n",
       "2            1  \n",
       "3            1  \n",
       "4            0  "
      ]
     },
     "execution_count": 55,
     "metadata": {},
     "output_type": "execute_result"
    }
   ],
   "source": [
    "Restaurants_Data = pd.read_csv('Restaurants_data.csv')\n",
    "Restaurants_Cleaned_Data = Precprocessing_Data(Restaurants_Data)\n",
    "\n",
    "Restaurants_Cleaned_Data.head()"
   ]
  },
  {
   "cell_type": "markdown",
   "metadata": {},
   "source": [
    "The below task is the one used to pre process the raw data from the review comments and later on convert the review comments into string datatype. \n",
    "\n",
    "1. Removed stop words which are English Stop words imported using the text package. These stopwords wont be of any use.\n",
    "2. Punctuations are also removed as they dont add meaning to the review text\n",
    "3. White space is stripped.\n",
    "4. Porter stemming is performed on the text"
   ]
  },
  {
   "cell_type": "code",
   "execution_count": 8,
   "metadata": {},
   "outputs": [],
   "source": [
    "def Words_pre_processing(df):\n",
    "    \n",
    "    stopwords = nltk.corpus.stopwords.words('english')\n",
    "    porter_stemmer = PorterStemmer()\n",
    "    \n",
    "    #Removing the punctuations  from them\n",
    "    df['Review'] = df.Review.str.replace(\"[^\\w\\s]\", \"\")\n",
    "    \n",
    "    #Stripping the white spaces from the words\n",
    "    df['Review'] = df['Review'].str.strip()\n",
    "    \n",
    "    #Removing all the stop words from the reviews\n",
    "    df['Review'] = df['Review'].apply(lambda x: [words for words in x.split() if words not in stopwords]) \n",
    "    \n",
    "    # Stem every word in the review.\n",
    "    df['Review'] = df['Review'].apply(lambda a: [porter_stemmer.stem(b) for b in a])\n",
    "    \n",
    "    #Coverting the review which is as list into string so that it can be given as an input to the Count Vectorizer\n",
    "    df['Review'] = [','.join(map(str, s)) for s in df['Review']]\n",
    "    \n",
    "    return df"
   ]
  },
  {
   "cell_type": "code",
   "execution_count": 9,
   "metadata": {},
   "outputs": [],
   "source": [
    "#Function to take the reviews from the dataset documents and tokenize the words and later on build a model, where the words\n",
    "#from these reviews will be used to build a training model. Initially after using the count vectorizer on the words,\n",
    "#we will divide this set of words into training and test sets with test set of size 30% of original word set and \n",
    "#train set will be 70% of the original word  set. We will use the Train data from traget as well as X to fit the selected model\n",
    "#and will predict using the test data created initially. In the end this function will print a matrix with Accuracy, Precision\n",
    "#Recall and F1- measure. In this function we will be passing the Dataset and the Classifier model we will be using.\n",
    "def Model_to_predict(df):\n",
    "    \n",
    "    df = Words_pre_processing(df)\n",
    "    \n",
    "    documents = df[\"Review\"]#Saving all the review comments in documents varibale\n",
    "    target = df[\"Rating_Model\"]#Saving all the Rating model in target varibale\n",
    "    target.value_counts()#Counting the target values\n",
    "    \n",
    "    #using the Count vectorizer to tokenize all the collection of words and at the same time build a vocabulary\n",
    "    vectorizer = CountVectorizer( min_df = 10, stop_words=None)\n",
    "    X = vectorizer.fit_transform(documents)\n",
    "    print(X.shape)\n",
    "    \n",
    "    #To print the distinct features in the vocabulary\n",
    "    terms = vectorizer.get_feature_names()\n",
    "    print(\"Vocabulary has %d distinct terms\" % len(terms))\n",
    "    \n",
    "    # Display a set of sample terms\n",
    "    print(terms[150:170])\n",
    "    \n",
    "    #Split the data, so that we have 70% in the training set and 30% in the test set:\n",
    "    data_train, data_test, target_train, target_test = train_test_split(X, target, test_size=0.3)\n",
    "    \n",
    "    #printing the number of Training and test set examples \n",
    "    print(\"Training set has %d examples\" % data_train.shape[0] )\n",
    "    print(\"Test set has %d examples\" % data_test.shape[0] )\n",
    "    \n",
    "    #Fit and Predict Using the Classifier passed\n",
    "    model = linear_model.LogisticRegression()\n",
    "    model.fit(data_train, target_train)\n",
    "    # Make a set of predictions for the training data\n",
    "    y_pred = model.predict(data_test)\n",
    "    \n",
    "    print(classification_report(target_test, y_pred, target_names=[\"Positive\",\"Negative\"]))"
   ]
  },
  {
   "cell_type": "code",
   "execution_count": 10,
   "metadata": {},
   "outputs": [],
   "source": [
    "# #Function to take the reviews from the dataset documents and tokenize the words and later on build a model, where the words\n",
    "# #from these reviews will be used to build a training model. Initially after using the count vectorizer on the words,\n",
    "# #we will divide this set of words into training and test sets with test set of size 30% of original word set and \n",
    "# #train set will be 70% of the original word  set. We will use the Train data from traget as well as X to fit the selected model\n",
    "# #and will predict using the test data created initially. In the end this function will print a matrix with Accuracy, Precision\n",
    "# #Recall and F1- measure. In this function we will be passing the Dataset and the Classifier model we will be using. \n",
    "# #We will be using cross validation in this function\n",
    "# def Model_to_predict_Cross_val(df):\n",
    "    \n",
    "#     df = Words_pre_processing(df)\n",
    "    \n",
    "#     documents = df[\"Review\"]#Saving all the review comments in documents varibale\n",
    "#     target = df[\"Rating_Model\"]#Saving all the Rating model in target varibale\n",
    "#     target.value_counts()#Counting the target values\n",
    "    \n",
    "#     #using the Count vectorizer to tokenize all the collection of words and at the same time build a vocabulary\n",
    "#     vectorizer = CountVectorizer( min_df = 10, stop_words=None )\n",
    "#     X = vectorizer.fit_transform(documents)\n",
    "#     print(X.shape)\n",
    "    \n",
    "#     # create a single classifier\n",
    "#     model = linear_model.LogisticRegression()\n",
    "#     # apply 2-fold cross-validation, measuring accuracy each time\n",
    "#     acc_scores = cross_val_score(model, X, target, cv=7, scoring=\"f1_macro\")\n",
    "    \n",
    "#     labels = [ \"Fold %d\" % i for i in range(1,len(acc_scores)+1) ]\n",
    "#     s_acc = pd.Series(acc_scores, index = labels)   \n",
    "#     print(s_acc)\n",
    "#     print(\"Mean accuracy: %.4f\" % s_acc.mean() )"
   ]
  },
  {
   "cell_type": "markdown",
   "metadata": {},
   "source": [
    "## Below are the Three classifier models used on all the three datasets and the accuracy (F1-measure) are displayed for all the three different classifiers"
   ]
  },
  {
   "cell_type": "markdown",
   "metadata": {},
   "source": [
    "## Cafes Dataset"
   ]
  },
  {
   "cell_type": "code",
   "execution_count": 11,
   "metadata": {
    "scrolled": true
   },
   "outputs": [
    {
     "name": "stdout",
     "output_type": "stream",
     "text": [
      "(2000, 1479)\n",
      "Vocabulary has 1479 distinct terms\n",
      "['black', 'bland', 'blend', 'block', 'blow', 'blt', 'blue', 'blueberri', 'board', 'boba', 'bold', 'bomb', 'bonu', 'book', 'booth', 'both', 'bother', 'bottl', 'bottom', 'bought']\n",
      "Training set has 1400 examples\n",
      "Test set has 600 examples\n",
      "              precision    recall  f1-score   support\n",
      "\n",
      "    Positive       0.77      0.62      0.69       159\n",
      "    Negative       0.87      0.93      0.90       441\n",
      "\n",
      "    accuracy                           0.85       600\n",
      "   macro avg       0.82      0.78      0.80       600\n",
      "weighted avg       0.85      0.85      0.85       600\n",
      "\n"
     ]
    }
   ],
   "source": [
    "Model_to_predict(Cafes_Cleaned_Data)"
   ]
  },
  {
   "cell_type": "markdown",
   "metadata": {},
   "source": [
    "## Hotels Dataset"
   ]
  },
  {
   "cell_type": "code",
   "execution_count": 13,
   "metadata": {},
   "outputs": [
    {
     "name": "stdout",
     "output_type": "stream",
     "text": [
      "(2000, 1727)\n",
      "Vocabulary has 1727 distinct terms\n",
      "['awar', 'away', 'awesom', 'awhil', 'az', 'babi', 'back', 'backpack', 'bacon', 'bad', 'bag', 'bagel', 'baggag', 'band', 'bank', 'bar', 'bare', 'bartend', 'base', 'basic']\n",
      "Training set has 1400 examples\n",
      "Test set has 600 examples\n",
      "              precision    recall  f1-score   support\n",
      "\n",
      "    Positive       0.90      0.85      0.87       239\n",
      "    Negative       0.90      0.94      0.92       361\n",
      "\n",
      "    accuracy                           0.90       600\n",
      "   macro avg       0.90      0.89      0.90       600\n",
      "weighted avg       0.90      0.90      0.90       600\n",
      "\n"
     ]
    }
   ],
   "source": [
    "Model_to_predict(Hotels_Cleaned_Data)"
   ]
  },
  {
   "cell_type": "markdown",
   "metadata": {},
   "source": [
    "## Restaurants Dataset"
   ]
  },
  {
   "cell_type": "code",
   "execution_count": 14,
   "metadata": {},
   "outputs": [
    {
     "name": "stdout",
     "output_type": "stream",
     "text": [
      "(2000, 1555)\n",
      "Vocabulary has 1555 distinct terms\n",
      "['best', 'better', 'beverag', 'beyond', 'big', 'bigger', 'bill', 'birthday', 'biscuit', 'bit', 'bite', 'black', 'blame', 'bland', 'block', 'blue', 'board', 'boil', 'bomb', 'bone']\n",
      "Training set has 1400 examples\n",
      "Test set has 600 examples\n",
      "              precision    recall  f1-score   support\n",
      "\n",
      "    Positive       0.83      0.78      0.80       246\n",
      "    Negative       0.85      0.89      0.87       354\n",
      "\n",
      "    accuracy                           0.84       600\n",
      "   macro avg       0.84      0.83      0.84       600\n",
      "weighted avg       0.84      0.84      0.84       600\n",
      "\n"
     ]
    }
   ],
   "source": [
    "Model_to_predict(Restaurants_Cleaned_Data)"
   ]
  },
  {
   "cell_type": "code",
   "execution_count": 16,
   "metadata": {},
   "outputs": [],
   "source": [
    "#Model_to_predict_Cross_val(Cafes_Cleaned_Data)"
   ]
  },
  {
   "cell_type": "code",
   "execution_count": 3,
   "metadata": {},
   "outputs": [
    {
     "data": {
      "image/png": "[encoded data removed]",
      "text/plain": [
       "<Figure size 360x288 with 1 Axes>"
      ]
     },
     "metadata": {
      "needs_background": "light"
     },
     "output_type": "display_data"
    }
   ],
   "source": [
    "values = [0.80, 0.90, 0.84]\n",
    "names = ['Cafes','Hotels','Restaurants']\n",
    "plt.figure(figsize=(5,4))\n",
    "# set up the bar chart\n",
    "plt.bar(names, values, color=\"Red\", width=0.5)\n",
    "plt.title(\"F1-Score of different classifiers\", fontsize=12)\n",
    "plt.ylabel(\"F1-score of classifier\", fontsize=14)\n",
    "# increase the font sizes on the axes\n",
    "plt.xticks(fontsize=12)\n",
    "plt.yticks(fontsize=12);"
   ]
  },
  {
   "cell_type": "markdown",
   "metadata": {},
   "source": [
    "## Below is the table with Different accuracy measure for all three datasets"
   ]
  },
  {
   "cell_type": "markdown",
   "metadata": {},
   "source": [
    "<div align=\"center\"><b>Accuracy table for all three models for all three Dataset</b></div></br>\n",
    "\n",
    "|Model Used|Precision|Recall|F1 score|\n",
    "| --- | --- | --- |--- |\n",
    "|Logistic Regression for Cafes Dataset|0.82|0.78|0.80|\n",
    "|Logistic Regression for Hotels Dataset|0.90|0.89|0.90|\n",
    "|Logistic Regression for Restaurants Dataset|0.84|0.83|0.84|"
   ]
  },
  {
   "cell_type": "markdown",
   "metadata": {},
   "source": [
    "As seen in the above tables, it is evident enough that F1-measure with Logistic regression model is the one which should be used on all the datsets. As the dataset we are using is an imbalanced dataset we cannot really rely on the accuarcy or the Precison/Recall. So for an imbalanced dataset we use the F1-Score or measure for evaluation where we can compare macro average of all three datasets. So in our analysis we are gonna select Logistic regression as the model with F1-Meausure as it gives the highest accuracy when compared with the other two accuracy parameters and this behaviour is seen through all the three datatsets.\n",
    "\n",
    "1. The Macro F1-score for Cafes dataset: 80%\n",
    "2. The Macro F1-score for Hotels dataset: 90%\n",
    "3. The Macro F1-score for Restaurants dataset: 84%"
   ]
  },
  {
   "cell_type": "markdown",
   "metadata": {},
   "source": [
    "# Task 3:  Evaluate the performance of each of your three classification models when applied to data from the other two selected categories."
   ]
  },
  {
   "cell_type": "markdown",
   "metadata": {},
   "source": [
    "Following mix match of train and test dataset will be done in this task and the mix and match are defined below:\n",
    "1. Training dataset A and testing the on other dataset B and C.\n",
    "2. Training dataset B and testing the on other dataset A and C.\n",
    "3. Training dataset C and testing the on other dataset A and B."
   ]
  },
  {
   "cell_type": "code",
   "execution_count": 56,
   "metadata": {},
   "outputs": [],
   "source": [
    "df = Cafes_Cleaned_Data#Copying the dataframe into a temporary variable\n",
    "df1 = Hotels_Cleaned_Data#Copying the dataframe into a temporary variable\n",
    "df2 = Restaurants_Cleaned_Data#Copying the dataframe into a temporary variable\n",
    "\n",
    "df_1 = Words_pre_processing(df)#Using the preprocessing function on the review text\n",
    "df_2 = Words_pre_processing(df1)#Using the preprocessing function on the review text\n",
    "df_3 = Words_pre_processing(df2)#Using the preprocessing function on the review text\n",
    "    \n",
    "#For Dataset 1\n",
    "documents = df_1[\"Review\"]#Saving all the review comments in documents varibale from dataset 1\n",
    "target = df_1[\"Rating_Model\"]#Saving all the Rating model in target varibale from dataset 1\n",
    "    \n",
    "#For Dataset 2\n",
    "documents1 = df_2[\"Review\"]#Saving all the review comments in documents varibale from dataset 2\n",
    "target1 = df_2[\"Rating_Model\"]#Saving all the Rating model in target varibale from dataset 2\n",
    "\n",
    "#For Dataset 3\n",
    "documents2 = df_3[\"Review\"]#Saving all the review comments in documents varibale from dataset 3\n",
    "target2 = df_3[\"Rating_Model\"]#Saving all the Rating model in target varibale from dataset 3"
   ]
  },
  {
   "cell_type": "markdown",
   "metadata": {},
   "source": [
    "The part where it gets tricky is, when we fit and transform using count vectorizer directly on each review documents we will be get different shape. So to avoid this problem i am using pipeline. Where i will fit using the 1st dataset on which i will train and transform all the rest datasets."
   ]
  },
  {
   "cell_type": "code",
   "execution_count": 57,
   "metadata": {},
   "outputs": [],
   "source": [
    "from sklearn.decomposition import SparsePCA\n",
    "#using the Count vectorizer to tokenize all the collection of words and at the same time build a vocabulary\n",
    "vectorizer = CountVectorizer( min_df = 10, stop_words=None)\n",
    "transform = vectorizer.fit(documents)#fitting using the first dataset\n",
    "X_11 = transform.transform(documents)#tranform using the first dataset\n",
    "\n",
    "X_12 = transform.transform(documents1)#tranform using the first dataset\n",
    "\n",
    "X_13 = transform.transform(documents2)#tranform using the first dataset"
   ]
  },
  {
   "cell_type": "code",
   "execution_count": 63,
   "metadata": {},
   "outputs": [],
   "source": [
    "transform2 = vectorizer.fit(documents1)#fitting using the second dataset\n",
    "X_22 = transform.transform(documents1)#tranform using the second dataset\n",
    "\n",
    "X_21 = transform.transform(documents)#tranform using the second dataset\n",
    "\n",
    "X_23 = transform.transform(documents2)#tranform using the second dataset"
   ]
  },
  {
   "cell_type": "code",
   "execution_count": 59,
   "metadata": {},
   "outputs": [],
   "source": [
    "transform3 = vectorizer.fit(documents2)#fitting using the third dataset\n",
    "X_33 = transform.transform(documents2)#tranform using the third dataset\n",
    "\n",
    "X_31 = transform.transform(documents)#tranform using the third dataset\n",
    "\n",
    "X_32 = transform.transform(documents1)#tranform using the third dataset"
   ]
  },
  {
   "cell_type": "code",
   "execution_count": 60,
   "metadata": {},
   "outputs": [],
   "source": [
    "#Function to take the reviews from the dataset documents and tokenize the words and later on build a model, where the words\n",
    "#from these reviews will be used to build a training model. Initially after using the count vectorizer on the words,\n",
    "#we will divide this set of words into training and test sets with test set of size 30% of original word set and \n",
    "#train set will be 70% of the original word  set. We will use the Train data from traget as well as X to fit the selected model\n",
    "#and will predict using the test data created initially. In the end this function will print a matrix with Accuracy, Precision\n",
    "#Recall and F1- measure. In this function we will be passing the Dataset and the Classifier model we will be using.\n",
    "def Model_to_fit_onedataset_predict_Another_Dataset(X,target,X1,target1):\n",
    "    \n",
    "    #Fit and Predict Using the Classifier passed\n",
    "    model = linear_model.LogisticRegression()\n",
    "    model.fit(X, target)\n",
    "    # Make a set of predictions for the training data\n",
    "    y_pred = model.predict(X1)\n",
    "    \n",
    "    print(classification_report(target1, y_pred, target_names=[\"Positive\",\"Negative\"]))"
   ]
  },
  {
   "cell_type": "markdown",
   "metadata": {},
   "source": [
    "## Training dataset Cafes and tested on other dataset Hotels and Restaurants."
   ]
  },
  {
   "cell_type": "code",
   "execution_count": 61,
   "metadata": {},
   "outputs": [
    {
     "name": "stdout",
     "output_type": "stream",
     "text": [
      "              precision    recall  f1-score   support\n",
      "\n",
      "    Positive       0.76      0.80      0.78       824\n",
      "    Negative       0.85      0.82      0.84      1176\n",
      "\n",
      "    accuracy                           0.81      2000\n",
      "   macro avg       0.81      0.81      0.81      2000\n",
      "weighted avg       0.81      0.81      0.81      2000\n",
      "\n"
     ]
    }
   ],
   "source": [
    "Model_to_fit_onedataset_predict_Another_Dataset(X_11,target,X_12,target1)"
   ]
  },
  {
   "cell_type": "code",
   "execution_count": 62,
   "metadata": {},
   "outputs": [
    {
     "name": "stdout",
     "output_type": "stream",
     "text": [
      "              precision    recall  f1-score   support\n",
      "\n",
      "    Positive       0.85      0.78      0.81       838\n",
      "    Negative       0.85      0.90      0.87      1162\n",
      "\n",
      "    accuracy                           0.85      2000\n",
      "   macro avg       0.85      0.84      0.84      2000\n",
      "weighted avg       0.85      0.85      0.85      2000\n",
      "\n"
     ]
    }
   ],
   "source": [
    "Model_to_fit_onedataset_predict_Another_Dataset(X_11,target,X_13,target2)"
   ]
  },
  {
   "cell_type": "code",
   "execution_count": 86,
   "metadata": {},
   "outputs": [
    {
     "data": {
      "image/png": "[encoded data removed]",
      "text/plain": [
       "<Figure size 360x288 with 1 Axes>"
      ]
     },
     "metadata": {
      "needs_background": "light"
     },
     "output_type": "display_data"
    }
   ],
   "source": [
    "values = [0.81, 0.84]\n",
    "names = ['Hotels','Restaurants']\n",
    "plt.figure(figsize=(5,4))\n",
    "# set up the bar chart\n",
    "plt.bar(names, values, color=\"Blue\", width=0.5)\n",
    "plt.title(\"F1-Score of classifiers when Dataset is trained on Cafes dataset and Tested on Hotels and Restaurants datasets\", fontsize=12)\n",
    "plt.ylabel(\"F1-score of classifier\", fontsize=14)\n",
    "# increase the font sizes on the axes\n",
    "plt.xticks(fontsize=12)\n",
    "plt.yticks(fontsize=12);"
   ]
  },
  {
   "cell_type": "markdown",
   "metadata": {},
   "source": [
    "## Training dataset Hotels and tested on other dataset Cafes and Restaurants."
   ]
  },
  {
   "cell_type": "code",
   "execution_count": 64,
   "metadata": {},
   "outputs": [
    {
     "name": "stdout",
     "output_type": "stream",
     "text": [
      "              precision    recall  f1-score   support\n",
      "\n",
      "    Positive       0.66      0.71      0.69       538\n",
      "    Negative       0.89      0.87      0.88      1462\n",
      "\n",
      "    accuracy                           0.83      2000\n",
      "   macro avg       0.78      0.79      0.78      2000\n",
      "weighted avg       0.83      0.83      0.83      2000\n",
      "\n"
     ]
    }
   ],
   "source": [
    "Model_to_fit_onedataset_predict_Another_Dataset(X_22,target1,X_21,target)"
   ]
  },
  {
   "cell_type": "code",
   "execution_count": 65,
   "metadata": {},
   "outputs": [
    {
     "name": "stdout",
     "output_type": "stream",
     "text": [
      "              precision    recall  f1-score   support\n",
      "\n",
      "    Positive       0.81      0.76      0.79       838\n",
      "    Negative       0.84      0.87      0.85      1162\n",
      "\n",
      "    accuracy                           0.83      2000\n",
      "   macro avg       0.82      0.82      0.82      2000\n",
      "weighted avg       0.83      0.83      0.83      2000\n",
      "\n"
     ]
    }
   ],
   "source": [
    "Model_to_fit_onedataset_predict_Another_Dataset(X_22,target1,X_23,target2)"
   ]
  },
  {
   "cell_type": "code",
   "execution_count": 4,
   "metadata": {},
   "outputs": [
    {
     "data": {
      "image/png": "[encoded data removed]",
      "text/plain": [
       "<Figure size 360x288 with 1 Axes>"
      ]
     },
     "metadata": {
      "needs_background": "light"
     },
     "output_type": "display_data"
    }
   ],
   "source": [
    "values = [0.78, 0.82]\n",
    "names = ['Cafes','Restaurants']\n",
    "plt.figure(figsize=(5,4))\n",
    "# set up the bar chart\n",
    "plt.bar(names, values, color=\"Grey\", width=0.5)\n",
    "plt.title(\"F1-Score of classifiers when Dataset is trained on Hotels dataset and Tested on Cafes and Restaurants datasets\", fontsize=12)\n",
    "plt.ylabel(\"F1-score of classifier\", fontsize=14)\n",
    "# increase the font sizes on the axes\n",
    "plt.xticks(fontsize=12)\n",
    "plt.yticks(fontsize=12);"
   ]
  },
  {
   "cell_type": "markdown",
   "metadata": {},
   "source": [
    "## Training dataset Restaurants and tested on other dataset Cafes and Hotels."
   ]
  },
  {
   "cell_type": "code",
   "execution_count": 66,
   "metadata": {},
   "outputs": [
    {
     "name": "stdout",
     "output_type": "stream",
     "text": [
      "              precision    recall  f1-score   support\n",
      "\n",
      "    Positive       0.74      0.79      0.76       538\n",
      "    Negative       0.92      0.90      0.91      1462\n",
      "\n",
      "    accuracy                           0.87      2000\n",
      "   macro avg       0.83      0.84      0.84      2000\n",
      "weighted avg       0.87      0.87      0.87      2000\n",
      "\n"
     ]
    }
   ],
   "source": [
    "Model_to_fit_onedataset_predict_Another_Dataset(X_33,target2,X_31,target)"
   ]
  },
  {
   "cell_type": "code",
   "execution_count": 67,
   "metadata": {},
   "outputs": [
    {
     "name": "stdout",
     "output_type": "stream",
     "text": [
      "              precision    recall  f1-score   support\n",
      "\n",
      "    Positive       0.75      0.86      0.80       824\n",
      "    Negative       0.89      0.79      0.84      1176\n",
      "\n",
      "    accuracy                           0.82      2000\n",
      "   macro avg       0.82      0.83      0.82      2000\n",
      "weighted avg       0.83      0.82      0.82      2000\n",
      "\n"
     ]
    }
   ],
   "source": [
    "Model_to_fit_onedataset_predict_Another_Dataset(X_33,target2,X_32,target1)"
   ]
  },
  {
   "cell_type": "code",
   "execution_count": 5,
   "metadata": {},
   "outputs": [
    {
     "data": {
      "image/png": "[encoded data removed]",
      "text/plain": [
       "<Figure size 360x288 with 1 Axes>"
      ]
     },
     "metadata": {
      "needs_background": "light"
     },
     "output_type": "display_data"
    }
   ],
   "source": [
    "values = [0.84, 0.82]\n",
    "names = ['Cafes','Hotels']\n",
    "plt.figure(figsize=(5,4))\n",
    "# set up the bar chart\n",
    "plt.bar(names, values, color=\"Black\", width=0.5)\n",
    "plt.title(\"F1-Score of classifiers when Dataset is trained on Restaurants dataset and Tested on Cafes and Hotels datasets\", fontsize=12)\n",
    "plt.ylabel(\"F1-score of classifier\", fontsize=14)\n",
    "# increase the font sizes on the axes\n",
    "plt.xticks(fontsize=12)\n",
    "plt.yticks(fontsize=12);"
   ]
  },
  {
   "cell_type": "markdown",
   "metadata": {},
   "source": [
    "## Conclusion for Task 3\n",
    "\n",
    "Cafes Model: In this model, i have trained the model using the cafes dataset and tested the trained model using the Hotels and Restaurants datasets. The F1-score for the Hotel dataset is 81% and for the Restaurants dataset it is 84%.\n",
    "\n",
    "Hotels Model: In this model, i have trained the model using the hotels dataset and tested the trained model using the Cafes and Restaurants datasets. The F1-score for the Hotel dataset is 78% and for the Restaurants dataset it is 82%.\n",
    "\n",
    "Restaurants Model: In this model, i have trained the model using the Restaurants dataset and tested the trained model using the Cafes and Hotels datasets. The F1-score for the Hotel dataset is 84% and for the Restaurants dataset it is 82%.\n",
    "\n",
    "So some interesting facts are seen when we trained on one dataset and tested on another, like in case of Cafe model, we can say the cafes and restaurants dataset return highes accuracy when ran on each other, this means that there are many similar words in these two datasets. In other meaning, it means that people who have writtem review for both the datasets, have used words which are similar. This is the reason why the accuracy is higher when these two datasets are used against each other.\n",
    "\n",
    "Another interesting fact in this analysis is that when we trained the model on hotels dataset and predicted for Cafes and Restaurant dataset, the accuracy for cafes dataset is low and its higher for the Restaurant dataset. This maybe beacuse the hotel and cafe dataset have less words in common and hotel and Restaurant have more words in common. In other words people have used words which are less similar while writing review for cafes and hotels and people have used words which are more similar in hotels and Restaurant datasets while writing review.\n",
    "\n",
    "One more interesting fact in this analysis is that when we trained the model on hotels dataset and predicted for Restaurant dataset and vice versa, the accuracy was same for both datasets. This is maybe because all the words in hotel dataset are present in restaurant datasets. That maybe one of the reason we are getting the accuracy."
   ]
  },
  {
   "cell_type": "code",
   "execution_count": 7,
   "metadata": {},
   "outputs": [
    {
     "name": "stderr",
     "output_type": "stream",
     "text": [
      "[NbConvertApp] Converting notebook Assignment_2_19200174.ipynb to html\n",
      "[NbConvertApp] Writing 429843 bytes to Assignment_2_19200174.html\n"
     ]
    }
   ],
   "source": [
    "! jupyter nbconvert --to html Assignment_2_19200174.ipynb"
   ]
  }
 ],
 "metadata": {
  "kernelspec": {
   "display_name": "Python 3",
   "language": "python",
   "name": "python3"
  },
  "language_info": {
   "codemirror_mode": {
    "name": "ipython",
    "version": 3
   },
   "file_extension": ".py",
   "mimetype": "text/x-python",
   "name": "python",
   "nbconvert_exporter": "python",
   "pygments_lexer": "ipython3",
   "version": "3.7.1"
  }
 },
 "nbformat": 4,
 "nbformat_minor": 2
}
